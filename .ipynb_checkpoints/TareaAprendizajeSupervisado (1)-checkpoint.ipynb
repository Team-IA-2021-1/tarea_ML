{
 "cells": [
  {
   "cell_type": "markdown",
   "metadata": {
    "id": "rXRGWxMyXwPP"
   },
   "source": [
    "# Tarea - Aprendizaje Supervisado\n",
    "\n",
    "En esta tarea, explorará la relación entre la complejidad del modelo y el rendimiento de la generalización, ajustando los parámetros clave de varios modelos de aprendizaje supervisado. La parte 1 de esta tarea analizará la regresión y la parte 2 analizará la clasificación.\n",
    "\n",
    "## Parte 1 - Regresión"
   ]
  },
  {
   "cell_type": "markdown",
   "metadata": {
    "id": "iNBpZsysXwPU"
   },
   "source": [
    "Ejecutar el siguiente código para crear las variables necesarias"
   ]
  },
  {
   "cell_type": "code",
   "execution_count": 10,
   "metadata": {
    "id": "6ZFMygopXwPV"
   },
   "outputs": [],
   "source": [
    "%config IPCompleter.greedy=True"
   ]
  },
  {
   "cell_type": "code",
   "execution_count": 11,
   "metadata": {
    "colab": {
     "base_uri": "https://localhost:8080/",
     "height": 350
    },
    "id": "GuoqoFGZXwPV",
    "outputId": "1f518415-0472-489c-826f-e9a3e51d939a",
    "scrolled": false
   },
   "outputs": [
    {
     "name": "stdout",
     "output_type": "stream",
     "text": [
      "[ 0.35281047  0.79431716  1.62431903  2.59103578  3.23065446  3.375973\n",
      "  4.47573197  4.96972856  5.69364194  6.51069113  7.17166586  8.14799756\n",
      "  8.72363612  9.31004929 10.08877265]\n",
      "(11,)\n",
      "(11,)\n"
     ]
    },
    {
     "name": "stderr",
     "output_type": "stream",
     "text": [
      "/home/claudia/anaconda3/lib/python3.8/site-packages/sklearn/utils/deprecation.py:143: FutureWarning: The sklearn.metrics.regression module is  deprecated in version 0.22 and will be removed in version 0.24. The corresponding classes / functions should instead be imported from sklearn.metrics. Anything that cannot be imported from sklearn.metrics is now part of the private API.\n",
      "  warnings.warn(message, FutureWarning)\n"
     ]
    },
    {
     "data": {
      "image/png": "[encoded data removed]",
      "text/plain": [
       "<Figure size 432x288 with 1 Axes>"
      ]
     },
     "metadata": {
      "needs_background": "light"
     },
     "output_type": "display_data"
    }
   ],
   "source": [
    "import numpy as np\n",
    "import pandas as pd\n",
    "import matplotlib.pyplot as plt\n",
    "from sklearn.model_selection import train_test_split\n",
    "from sklearn.linear_model import LinearRegression\n",
    "from sklearn.preprocessing import PolynomialFeatures\n",
    "from sklearn.linear_model import LinearRegression\n",
    "from sklearn.preprocessing import PolynomialFeatures\n",
    "from sklearn.metrics.regression import r2_score\n",
    "from sklearn.preprocessing import PolynomialFeatures\n",
    "from sklearn.linear_model import Lasso, LinearRegression\n",
    "from sklearn.metrics.regression import r2_score\n",
    "\n",
    "\n",
    "np.random.seed(0)\n",
    "n = 15\n",
    "x = np.linspace(0,10,n) + np.random.randn(n)/5\n",
    "y = np.sin(x)+x/6 + np.random.randn(n)/10\n",
    "\n",
    "\n",
    "X_train, X_test, y_train, y_test = train_test_split(x, y, random_state=0)\n",
    "print (x)\n",
    "print(X_train.shape)\n",
    "print(y_train.shape)\n",
    "# Puede utilizar esta función para ayudarle a visualizar el conjunto de datos\n",
    "# trazar un diagrama de dispersión de los puntos de datos\n",
    "# en los conjuntos de entrenamiento y prueba.\n",
    "def part1_scatter():\n",
    "    %matplotlib inline\n",
    "    plt.figure()\n",
    "    plt.scatter(X_train, y_train, label='training data')\n",
    "    plt.scatter(X_test, y_test, label='test data')\n",
    "    plt.legend(loc=4);\n",
    "\n",
    "    \n",
    "# NOTA: la funcion de abajo para visualizar los datos\n",
    "part1_scatter()"
   ]
  },
  {
   "cell_type": "markdown",
   "metadata": {
    "id": "yQ6dPliLXwPW"
   },
   "source": [
    "### Pregunta 1\n",
    "\n",
    "Escriba una función que se ajuste a un modelo de regresión lineal polinomial en los *datos de entrenamiento* `X_train` para los grados 1, 3, 6 y 9. (Use PolynomialFeatures en sklearn.preprocessing para crear las características polinomiales y luego ajustar un modelo de regresión lineal) Para cada modelo, encuentre 100 valores predichos en el intervalo x = 0 a 10 (por ejemplo, `np.linspace(0,10,100)`) y almacénelos en una matriz numérica. La primera fila de esta matriz debe corresponder a la salida del modelo entrenado en el grado 1, la segunda fila en el grado 3, la tercera fila en el grado 6 y la cuarta fila en el grado 9 (*Hint:* Usar `np.vstack` para agregar filas a la matriz numpy).\n",
    "\n",
    "<img src=\"readonly/polynomialreg1.png\" style=\"width: 1000px;\"/>\n",
    "\n",
    "La figura de arriba muestra los modelos ajustados graficados sobre los datos originales (usando `plot_one()`).\n",
    "\n",
    "<br>\n",
    "*Esta función debería devolver una matriz numpy con forma `(4, 100)`*"
   ]
  },
  {
   "cell_type": "code",
   "execution_count": 12,
   "metadata": {
    "colab": {
     "base_uri": "https://localhost:8080/"
    },
    "id": "_9Hk5xVKXwPX",
    "outputId": "94a299f2-5679-4218-91f2-eb3fcbaa733b"
   },
   "outputs": [
    {
     "name": "stdout",
     "output_type": "stream",
     "text": [
      "----->DONE<------\n"
     ]
    },
    {
     "data": {
      "text/plain": [
       "array([[ 2.53040195e-01,  2.69201547e-01,  2.85362899e-01,\n",
       "         3.01524251e-01,  3.17685603e-01,  3.33846955e-01,\n",
       "         3.50008306e-01,  3.66169658e-01,  3.82331010e-01,\n",
       "         3.98492362e-01,  4.14653714e-01,  4.30815066e-01,\n",
       "         4.46976417e-01,  4.63137769e-01,  4.79299121e-01,\n",
       "         4.95460473e-01,  5.11621825e-01,  5.27783177e-01,\n",
       "         5.43944529e-01,  5.60105880e-01,  5.76267232e-01,\n",
       "         5.92428584e-01,  6.08589936e-01,  6.24751288e-01,\n",
       "         6.40912640e-01,  6.57073992e-01,  6.73235343e-01,\n",
       "         6.89396695e-01,  7.05558047e-01,  7.21719399e-01,\n",
       "         7.37880751e-01,  7.54042103e-01,  7.70203454e-01,\n",
       "         7.86364806e-01,  8.02526158e-01,  8.18687510e-01,\n",
       "         8.34848862e-01,  8.51010214e-01,  8.67171566e-01,\n",
       "         8.83332917e-01,  8.99494269e-01,  9.15655621e-01,\n",
       "         9.31816973e-01,  9.47978325e-01,  9.64139677e-01,\n",
       "         9.80301028e-01,  9.96462380e-01,  1.01262373e+00,\n",
       "         1.02878508e+00,  1.04494644e+00,  1.06110779e+00,\n",
       "         1.07726914e+00,  1.09343049e+00,  1.10959184e+00,\n",
       "         1.12575320e+00,  1.14191455e+00,  1.15807590e+00,\n",
       "         1.17423725e+00,  1.19039860e+00,  1.20655995e+00,\n",
       "         1.22272131e+00,  1.23888266e+00,  1.25504401e+00,\n",
       "         1.27120536e+00,  1.28736671e+00,  1.30352807e+00,\n",
       "         1.31968942e+00,  1.33585077e+00,  1.35201212e+00,\n",
       "         1.36817347e+00,  1.38433482e+00,  1.40049618e+00,\n",
       "         1.41665753e+00,  1.43281888e+00,  1.44898023e+00,\n",
       "         1.46514158e+00,  1.48130294e+00,  1.49746429e+00,\n",
       "         1.51362564e+00,  1.52978699e+00,  1.54594834e+00,\n",
       "         1.56210969e+00,  1.57827105e+00,  1.59443240e+00,\n",
       "         1.61059375e+00,  1.62675510e+00,  1.64291645e+00,\n",
       "         1.65907781e+00,  1.67523916e+00,  1.69140051e+00,\n",
       "         1.70756186e+00,  1.72372321e+00,  1.73988457e+00,\n",
       "         1.75604592e+00,  1.77220727e+00,  1.78836862e+00,\n",
       "         1.80452997e+00,  1.82069132e+00,  1.83685268e+00,\n",
       "         1.85301403e+00],\n",
       "       [ 1.22989539e+00,  1.15143628e+00,  1.07722393e+00,\n",
       "         1.00717881e+00,  9.41221419e-01,  8.79272234e-01,\n",
       "         8.21251741e-01,  7.67080426e-01,  7.16678772e-01,\n",
       "         6.69967266e-01,  6.26866391e-01,  5.87296632e-01,\n",
       "         5.51178474e-01,  5.18432402e-01,  4.88978901e-01,\n",
       "         4.62738455e-01,  4.39631549e-01,  4.19578668e-01,\n",
       "         4.02500297e-01,  3.88316920e-01,  3.76949022e-01,\n",
       "         3.68317088e-01,  3.62341603e-01,  3.58943051e-01,\n",
       "         3.58041918e-01,  3.59558687e-01,  3.63413845e-01,\n",
       "         3.69527874e-01,  3.77821261e-01,  3.88214491e-01,\n",
       "         4.00628046e-01,  4.14982414e-01,  4.31198078e-01,\n",
       "         4.49195522e-01,  4.68895233e-01,  4.90217694e-01,\n",
       "         5.13083391e-01,  5.37412808e-01,  5.63126429e-01,\n",
       "         5.90144741e-01,  6.18388226e-01,  6.47777371e-01,\n",
       "         6.78232660e-01,  7.09674578e-01,  7.42023609e-01,\n",
       "         7.75200238e-01,  8.09124950e-01,  8.43718230e-01,\n",
       "         8.78900563e-01,  9.14592432e-01,  9.50714324e-01,\n",
       "         9.87186723e-01,  1.02393011e+00,  1.06086498e+00,\n",
       "         1.09791181e+00,  1.13499108e+00,  1.17202328e+00,\n",
       "         1.20892890e+00,  1.24562842e+00,  1.28204233e+00,\n",
       "         1.31809110e+00,  1.35369523e+00,  1.38877520e+00,\n",
       "         1.42325149e+00,  1.45704459e+00,  1.49007498e+00,\n",
       "         1.52226316e+00,  1.55352959e+00,  1.58379478e+00,\n",
       "         1.61297919e+00,  1.64100332e+00,  1.66778766e+00,\n",
       "         1.69325268e+00,  1.71731887e+00,  1.73990672e+00,\n",
       "         1.76093671e+00,  1.78032933e+00,  1.79800506e+00,\n",
       "         1.81388438e+00,  1.82788778e+00,  1.83993575e+00,\n",
       "         1.84994877e+00,  1.85784732e+00,  1.86355189e+00,\n",
       "         1.86698296e+00,  1.86806103e+00,  1.86670656e+00,\n",
       "         1.86284006e+00,  1.85638200e+00,  1.84725286e+00,\n",
       "         1.83537314e+00,  1.82066332e+00,  1.80304388e+00,\n",
       "         1.78243530e+00,  1.75875808e+00,  1.73193269e+00,\n",
       "         1.70187963e+00,  1.66851936e+00,  1.63177240e+00,\n",
       "         1.59155920e+00],\n",
       "       [-1.99554310e-01, -3.95192728e-03,  1.79851752e-01,\n",
       "         3.51005136e-01,  5.08831706e-01,  6.52819233e-01,\n",
       "         7.82609240e-01,  8.97986721e-01,  9.98870117e-01,\n",
       "         1.08530155e+00,  1.15743729e+00,  1.21553852e+00,\n",
       "         1.25996233e+00,  1.29115292e+00,  1.30963316e+00,\n",
       "         1.31599632e+00,  1.31089811e+00,  1.29504889e+00,\n",
       "         1.26920626e+00,  1.23416782e+00,  1.19076415e+00,\n",
       "         1.13985218e+00,  1.08230867e+00,  1.01902405e+00,\n",
       "         9.50896441e-01,  8.78825970e-01,  8.03709344e-01,\n",
       "         7.26434655e-01,  6.47876457e-01,  5.68891088e-01,\n",
       "         4.90312256e-01,  4.12946874e-01,  3.37571147e-01,\n",
       "         2.64926923e-01,  1.95718291e-01,  1.30608438e-01,\n",
       "         7.02167560e-02,  1.51162118e-02, -3.41690366e-02,\n",
       "        -7.71657636e-02, -1.13453547e-01, -1.42666382e-01,\n",
       "        -1.64494044e-01, -1.78683194e-01, -1.85038228e-01,\n",
       "        -1.83421873e-01, -1.73755533e-01, -1.56019368e-01,\n",
       "        -1.30252132e-01, -9.65507462e-02, -5.50696232e-02,\n",
       "        -6.01973201e-03,  5.03325883e-02,  1.13667071e-01,\n",
       "         1.83611221e-01,  2.59742264e-01,  3.41589357e-01,\n",
       "         4.28636046e-01,  5.20322987e-01,  6.16050916e-01,\n",
       "         7.15183874e-01,  8.17052690e-01,  9.20958717e-01,\n",
       "         1.02617782e+00,  1.13196463e+00,  1.23755703e+00,\n",
       "         1.34218093e+00,  1.44505526e+00,  1.54539723e+00,\n",
       "         1.64242789e+00,  1.73537785e+00,  1.82349336e+00,\n",
       "         1.90604254e+00,  1.98232198e+00,  2.05166348e+00,\n",
       "         2.11344114e+00,  2.16707864e+00,  2.21205680e+00,\n",
       "         2.24792141e+00,  2.27429129e+00,  2.29086658e+00,\n",
       "         2.29743739e+00,  2.29389257e+00,  2.28022881e+00,\n",
       "         2.25656001e+00,  2.22312684e+00,  2.18030664e+00,\n",
       "         2.12862347e+00,  2.06875850e+00,  2.00156065e+00,\n",
       "         1.92805743e+00,  1.84946605e+00,  1.76720485e+00,\n",
       "         1.68290491e+00,  1.59842194e+00,  1.51584842e+00,\n",
       "         1.43752602e+00,  1.36605824e+00,  1.30432333e+00,\n",
       "         1.25548743e+00],\n",
       "       [ 6.79500612e+00,  4.14318998e+00,  2.23122867e+00,\n",
       "         9.10494377e-01,  5.49813276e-02, -4.41342236e-01,\n",
       "        -6.66947662e-01, -6.94940004e-01, -5.85046923e-01,\n",
       "        -3.85416091e-01, -1.34234180e-01,  1.38819992e-01,\n",
       "         4.11276218e-01,  6.66716104e-01,  8.93747846e-01,\n",
       "         1.08510221e+00,  1.23683987e+00,  1.34766072e+00,\n",
       "         1.41830637e+00,  1.45104735e+00,  1.44924714e+00,\n",
       "         1.41699564e+00,  1.35880484e+00,  1.27936035e+00,\n",
       "         1.18332239e+00,  1.07517056e+00,  9.59087037e-01,\n",
       "         8.38873059e-01,  7.17894199e-01,  5.99050039e-01,\n",
       "         4.84764363e-01,  3.76992216e-01,  2.77240570e-01,\n",
       "         1.86599593e-01,  1.05781836e-01,  3.51669308e-02,\n",
       "        -2.51503343e-02, -7.53104392e-02, -1.15639691e-01,\n",
       "        -1.46602307e-01, -1.68755204e-01, -1.82706444e-01,\n",
       "        -1.89078113e-01, -1.88474202e-01, -1.81453906e-01,\n",
       "        -1.68510572e-01, -1.50056387e-01, -1.26412780e-01,\n",
       "        -9.78063396e-02, -6.43699860e-02, -2.61489964e-02,\n",
       "         1.68885845e-02,  6.48377042e-02,  1.17838850e-01,\n",
       "         1.76058056e-01,  2.39665079e-01,  3.08810491e-01,\n",
       "         3.83602438e-01,  4.64083831e-01,  5.50210732e-01,\n",
       "         6.41832652e-01,  7.38675488e-01,  8.40327741e-01,\n",
       "         9.46230632e-01,  1.05567264e+00,  1.16778895e+00,\n",
       "         1.28156611e+00,  1.39585223e+00,  1.50937286e+00,\n",
       "         1.62075248e+00,  1.72854158e+00,  1.83124901e+00,\n",
       "         1.92737915e+00,  2.01547329e+00,  2.09415438e+00,\n",
       "         2.16217430e+00,  2.21846210e+00,  2.26217218e+00,\n",
       "         2.29273035e+00,  2.30987610e+00,  2.31369872e+00,\n",
       "         2.30466493e+00,  2.28363515e+00,  2.25186546e+00,\n",
       "         2.21099178e+00,  2.16299270e+00,  2.11012689e+00,\n",
       "         2.05484069e+00,  1.99964122e+00,  1.94692990e+00,\n",
       "         1.89879087e+00,  1.85672849e+00,  1.82134767e+00,\n",
       "         1.79197016e+00,  1.76617995e+00,  1.73928997e+00,\n",
       "         1.70372222e+00,  1.64829275e+00,  1.55739256e+00,\n",
       "         1.41005493e+00]])"
      ]
     },
     "execution_count": 12,
     "metadata": {},
     "output_type": "execute_result"
    }
   ],
   "source": [
    "def respuesta1():\n",
    "  res1 = np.zeros((4, 100)) #inicalizar resultado\n",
    "  grados = enumerate([1, 3, 6, 9]) #lista con grados polinomios\n",
    "  for col, grado in grados:\n",
    "      feat_pol = PolynomialFeatures(degree=grado) #crear caracteristicas polinomiales\n",
    "      X_poly = feat_pol.fit_transform(X_train.reshape(11,1))\n",
    "      linreg = LinearRegression().fit(X_poly, y_train)\n",
    "      y=linreg.predict(feat_pol.fit_transform(np.linspace(0,10,100).reshape(100,1)))#predecir cien datos de valores entre 0 y 100\n",
    "      res1[col, :] = y\n",
    "  print(\"----->DONE<------\")\n",
    "  return res1 # tu respuesta\n",
    "respuesta1()"
   ]
  },
  {
   "cell_type": "code",
   "execution_count": 13,
   "metadata": {
    "colab": {
     "base_uri": "https://localhost:8080/",
     "height": 341
    },
    "id": "UoDKePnXXwPX",
    "outputId": "0d90e225-7b12-4ac9-9c46-3a62342eadf7"
   },
   "outputs": [
    {
     "name": "stdout",
     "output_type": "stream",
     "text": [
      "----->DONE<------\n"
     ]
    },
    {
     "data": {
      "image/png": "[encoded data removed]",
      "text/plain": [
       "<Figure size 720x360 with 1 Axes>"
      ]
     },
     "metadata": {
      "needs_background": "light"
     },
     "output_type": "display_data"
    }
   ],
   "source": [
    "# Puedes usar la función plot_one() para replicar la figura\n",
    "# del mensaje una vez que haya completado la pregunta uno\n",
    "def plot_one(degree_predictions):\n",
    "    plt.figure(figsize=(10,5))\n",
    "    plt.plot(X_train, y_train, 'o', label='training data', markersize=10)\n",
    "    plt.plot(X_test, y_test, 'o', label='test data', markersize=10)\n",
    "    for i,degree in enumerate([1,3,6,9]):\n",
    "        plt.plot(np.linspace(0,10,100), degree_predictions[i], alpha=0.8, lw=2, label='degree={}'.format(degree))\n",
    "    plt.ylim(-1,2.5)\n",
    "    plt.legend(loc=4)\n",
    "    \n",
    "plot_one(respuesta1())"
   ]
  },
  {
   "cell_type": "markdown",
   "metadata": {
    "id": "fb6M-M7WXwPX"
   },
   "source": [
    "### Pregunta 2\n",
    "\n",
    "Escriba una función que se ajuste a un modelo de regresión lineal polinomial en los datos de entrenamiento `X_train` para los grados 0 a 9. Para cada modelo, calcule la puntuación de regresión $R^2$ (coeficiente de determinación) en los datos de entrenamiento y en los datos de la prueba y devuelve ambas matrices en una tupla.\n",
    "\n",
    "*Esta función debería devolver una tupla de matrices numpy `(r2_train, r2_test)`. Ambas matrices deben tener forma `(10,)`*"
   ]
  },
  {
   "cell_type": "code",
   "execution_count": 14,
   "metadata": {
    "colab": {
     "base_uri": "https://localhost:8080/"
    },
    "id": "HBAuwCoEXwPX",
    "outputId": "53dae91c-51cc-4fd8-90fd-03ba7c39793e"
   },
   "outputs": [
    {
     "name": "stdout",
     "output_type": "stream",
     "text": [
      "([(-0.4780864173714179, 0.0), (-0.45237104233936676, 0.4292457781234663), (-0.06856984149916023, 0.45109980444082465), (0.005331052945739101, 0.587199536877985), (0.7300494281868042, 0.9194194471769304), (0.8770830091492043, 0.975786414306821), (0.9214093981378233, 0.9901823324795086), (0.9202150411626775, 0.9935250927840401), (0.6324795007430362, 0.9963754538774162), (-0.6452477727050785, 0.9980370625662136)], array([-0.47808642, -0.45237104, -0.06856984,  0.00533105,  0.73004943,\n",
      "        0.87708301,  0.9214094 ,  0.92021504,  0.6324795 , -0.64524777]), array([0.        , 0.42924578, 0.4510998 , 0.58719954, 0.91941945,\n",
      "       0.97578641, 0.99018233, 0.99352509, 0.99637545, 0.99803706]))\n"
     ]
    }
   ],
   "source": [
    "def respuesta2():\n",
    "    \n",
    "    r2_train = np.zeros(10)\n",
    "    r2_test = np.zeros(10)\n",
    "    for grado in range(10):\n",
    "        feat_pol = PolynomialFeatures(degree=grado)\n",
    "        \n",
    "        X_poly = feat_pol.fit_transform(X_train.reshape(11,1))\n",
    "        linreg = LinearRegression().fit(X_poly, y_train)        \n",
    "        r2_train[grado] = linreg.score(X_poly, y_train);\n",
    "        \n",
    "        X_test_poly = feat_pol.fit_transform(X_test.reshape(4,1))\n",
    "        r2_test[grado] = linreg.score(X_test_poly, y_test)\n",
    "        \n",
    "        tupla = list(zip(r2_test, r2_train))\n",
    "    return (tupla,r2_test,r2_train) # regresa la tupla y regresa los arrays por separado\n",
    "    \n",
    "res2= respuesta2()\n",
    "print(res2)#mostradno tupla"
   ]
  },
  {
   "cell_type": "markdown",
   "metadata": {
    "id": "UtX-N8j7XwPY"
   },
   "source": [
    "### Pregunta 3\n",
    "\n",
    "Con base en las puntuaciones de $R^2$ de la pregunta 2 (niveles de grado 0 a 9), ¿Qué nivel de grado corresponde a un modelo que no se ajusta bien (underfitting)? ¿Qué grado corresponde a un modelo sobreajustado (overfitting)? ¿Qué elección de nivel de grado proporcionaría un modelo con un buen rendimiento de generalización en este conjunto de datos? Nota: puede haber varias soluciones correctas para esta pregunta.\n",
    "\n",
    "(Sugerencia: intente graficar `plt.plot` los puntajes de $R^2$ de la pregunta 2 para visualizar la relación entre el nivel de grado y $R^2$)\n",
    "\n",
    "*Esta función debería devolver una tupla con los valores de grado en este orden: `(Subajuste, Sobreajuste, Buena_Generalización)`*"
   ]
  },
  {
   "cell_type": "code",
   "execution_count": 15,
   "metadata": {
    "colab": {
     "base_uri": "https://localhost:8080/"
    },
    "id": "hmf19y1aXwPY",
    "outputId": "7dd55b12-fb39-4ed8-ff3e-49e5372e16a9"
   },
   "outputs": [
    {
     "data": {
      "text/plain": [
       "(9, 6, 9)"
      ]
     },
     "execution_count": 15,
     "metadata": {},
     "output_type": "execute_result"
    }
   ],
   "source": [
    "def respuesta3():\n",
    "    r2_scores = respuesta2()\n",
    "    df = pd.DataFrame({'training_score':r2_scores[1], 'test_score':r2_scores[2]})\n",
    "    df['desvia'] = df['training_score'] - df['test_score']\n",
    "    \n",
    "    df = df.sort_values(['desvia']) #ordenar los valores\n",
    "    buena_generalización = df.index[0]\n",
    "    \n",
    "    df = df.sort_values(['desvia'], ascending = False) #Para cambiar el orden del ordenado\n",
    "    sobreajuste = df.index[0]\n",
    "    \n",
    "    df = df.sort_values(['training_score'])\n",
    "    subajuste = df.index[0]\n",
    "    \n",
    "    return buena_generalización,sobreajuste,subajuste # tu respuesta\n",
    "respuesta3()"
   ]
  },
  {
   "cell_type": "markdown",
   "metadata": {
    "id": "b2d_jEdUXwPY"
   },
   "source": [
    "### Pregunta 4\n",
    "\n",
    "El entrenamiento de modelos en características polinomiales de alto grado puede resultar en modelos demasiado complejos que se sobreajustan, por lo que a menudo usamos versiones regularizadas del modelo para restringir la complejidad del modelo, como vimos con la regresión lineal Ridge y Lasso.\n",
    "\n",
    "Para esta pregunta, entrene dos modelos: un modelo de Regresión lineal no regularizado (parámetros predeterminados) y un modelo de Regresión de lazo regularizado (con parámetros `alpha = 0.01`,` max_iter = 10000`) en características polinómicas de grado 12. Devuelva el valor $R^2$ para los conjuntos de prueba del modelo LinearRegression y Lasso.\n",
    "\n",
    "* Esta función debería devolver una tupla `(LinearRegression_R2_score, Lasso_R2_score)` *"
   ]
  },
  {
   "cell_type": "code",
   "execution_count": 16,
   "metadata": {
    "colab": {
     "base_uri": "https://localhost:8080/"
    },
    "id": "cRwQdZG0XwPY",
    "outputId": "59da3724-0560-4027-8e7c-f58e9465a131"
   },
   "outputs": [
    {
     "name": "stderr",
     "output_type": "stream",
     "text": [
      "/home/claudia/anaconda3/lib/python3.8/site-packages/sklearn/linear_model/_coordinate_descent.py:529: ConvergenceWarning: Objective did not converge. You might want to increase the number of iterations. Duality gap: 0.3556421695889839, tolerance: 0.00068949825403828\n",
      "  model = cd_fast.enet_coordinate_descent(\n"
     ]
    },
    {
     "data": {
      "text/plain": [
       "(-4.311980555741178, 0.8406625614750356)"
      ]
     },
     "execution_count": 16,
     "metadata": {},
     "output_type": "execute_result"
    }
   ],
   "source": [
    "def respuesta4():\n",
    "    \n",
    "    feat_pol = PolynomialFeatures(degree=12)\n",
    "    X_train_poly = feat_pol.fit_transform(X_train.reshape(11,1))\n",
    "    X_test_poly = feat_pol.fit_transform(X_test.reshape(4,1))\n",
    "    \n",
    "    # regresion lienal\n",
    "    linreg = LinearRegression().fit(X_train_poly, y_train)\n",
    "    lineal = linreg.score(X_test_poly, y_test)\n",
    "\n",
    "    # Lasso \n",
    "    linlasso = Lasso(alpha=0.01, max_iter = 10000).fit(X_train_poly, y_train)\n",
    "    lasso = linlasso.score(X_test_poly, y_test)\n",
    "    \n",
    "    return  (lineal, lasso)#tu respuesta\n",
    "\n",
    "\n",
    "respuesta4()"
   ]
  },
  {
   "cell_type": "markdown",
   "metadata": {
    "id": "ksQlVd-lXwPZ"
   },
   "source": [
    "## Parte 2 - Clasificación\n",
    "\n",
    "Para esta sección de la tarea, trabajaremos con el [Conjunto de datos de hongos UCI] (http://archive.ics.uci.edu/ml/datasets/Mushroom?ref=datanews.io) almacenado en `mushrooms.csv` . Los datos se utilizarán para entrenar un modelo para predecir si un hongo es venenoso o no. Se proporcionan los siguientes atributos:\n",
    "\n",
    "* Información de atributos: *\n",
    "1. cap-shape: bell=b, conical=c, convex=x, flat=f, knobbed=k, sunken=s \n",
    "2. cap-surface: fibrous=f, grooves=g, scaly=y, smooth=s \n",
    "3. cap-color: brown=n, buff=b, cinnamon=c, gray=g, green=r, pink=p, purple=u, red=e, white=w, yellow=y \n",
    "4. bruises?: bruises=t, no=f \n",
    "5. odor: almond=a, anise=l, creosote=c, fishy=y, foul=f, musty=m, none=n, pungent=p, spicy=s \n",
    "6. gill-attachment: attached=a, descending=d, free=f, notched=n \n",
    "7. gill-spacing: close=c, crowded=w, distant=d \n",
    "8. gill-size: broad=b, narrow=n \n",
    "9. gill-color: black=k, brown=n, buff=b, chocolate=h, gray=g, green=r, orange=o, pink=p, purple=u, red=e, white=w, yellow=y \n",
    "10. stalk-shape: enlarging=e, tapering=t \n",
    "11. stalk-root: bulbous=b, club=c, cup=u, equal=e, rhizomorphs=z, rooted=r, missing=? \n",
    "12. stalk-surface-above-ring: fibrous=f, scaly=y, silky=k, smooth=s \n",
    "13. stalk-surface-below-ring: fibrous=f, scaly=y, silky=k, smooth=s \n",
    "14. stalk-color-above-ring: brown=n, buff=b, cinnamon=c, gray=g, orange=o, pink=p, red=e, white=w, yellow=y \n",
    "15. stalk-color-below-ring: brown=n, buff=b, cinnamon=c, gray=g, orange=o, pink=p, red=e, white=w, yellow=y \n",
    "16. veil-type: partial=p, universal=u \n",
    "17. veil-color: brown=n, orange=o, white=w, yellow=y \n",
    "18. ring-number: none=n, one=o, two=t \n",
    "19. ring-type: cobwebby=c, evanescent=e, flaring=f, large=l, none=n, pendant=p, sheathing=s, zone=z \n",
    "20. spore-print-color: black=k, brown=n, buff=b, chocolate=h, green=r, orange=o, purple=u, white=w, yellow=y \n",
    "21. population: abundant=a, clustered=c, numerous=n, scattered=s, several=v, solitary=y \n",
    "22. habitat: grasses=g, leaves=l, meadows=m, paths=p, urban=u, waste=w, woods=d\n",
    "\n",
    "<br>\n",
    "\n",
    "Los datos del conjunto de datos de hongos están actualmente codificados con cadenas. Estos valores deberán codificarse en numéricos para funcionar con sklearn. Usaremos pd.get_dummies para convertir las variables categóricas en variables indicadoras."
   ]
  },
  {
   "cell_type": "code",
   "execution_count": 17,
   "metadata": {
    "id": "H8kx2kKIXwPZ",
    "outputId": "08e10e7f-3728-4eb3-c9f7-812c393c37c5"
   },
   "outputs": [
    {
     "name": "stdout",
     "output_type": "stream",
     "text": [
      "(6093, 117)\n",
      "(2031, 117)\n"
     ]
    }
   ],
   "source": [
    "import pandas as pd\n",
    "import numpy as np\n",
    "from sklearn.model_selection import train_test_split\n",
    "\n",
    "mush_df = pd.read_csv('mushrooms.csv')\n",
    "mush_df2 = pd.get_dummies(mush_df)\n",
    "\n",
    "X_mush = mush_df2.iloc[:,2:]\n",
    "y_mush = mush_df2.iloc[:,1]\n",
    "\n",
    "# use las variables X_train, y_train 2 para la Pregunta 5\n",
    "X_train2, X_test2, y_train2, y_test2 = train_test_split(X_mush, y_mush, random_state=0)\n",
    "\n",
    "# Por motivos de rendimiento en las preguntas 6 y 7, crearemos una versión más pequeña del\n",
    "# conjunto de datos de hongos completo para usar en esas preguntas. Por simplicidad, simplemente reutilizaremos\n",
    "# la división de prueba del 25% creada anteriormente como subconjunto representativo.\n",
    "#\n",
    "# Utilice las variables X_subset, y_subset para las preguntas 6 y 7.\n",
    "X_subset = X_test2\n",
    "y_subset = y_test2\n",
    "print(X_train2.shape)\n",
    "print(X_test2.shape)"
   ]
  },
  {
   "cell_type": "markdown",
   "metadata": {
    "id": "CqUJwzA0XwPa"
   },
   "source": [
    "### Pregunta 5\n",
    "\n",
    "Utilizando `X_train2` y` y_train2` de la celda anterior, entrena un DecisionTreeClassifier con los parámetros predeterminados y random_state = 0. ¿Cuáles son las 5 características más importantes encontradas por el árbol de decisiones?\n",
    "\n",
    "Como recordatorio, los nombres de las características están disponibles en la propiedad `X_train2.columns`, y el orden de las características en` X_train2.columns` coincide con el orden de los valores de importancia de las características en la propiedad `feature_importances_` del clasificador.\n",
    "\n",
    "*Esta función debe devolver una lista de longitud 5 que contenga los nombres de las funciones en orden descendente de importancia.*"
   ]
  },
  {
   "cell_type": "code",
   "execution_count": 18,
   "metadata": {
    "id": "_DuGCGMYXwPa"
   },
   "outputs": [
    {
     "data": {
      "text/plain": [
       "['odor_n', 'stalk-root_c', 'stalk-root_r', 'spore-print-color_r', 'odor_l']"
      ]
     },
     "execution_count": 18,
     "metadata": {},
     "output_type": "execute_result"
    }
   ],
   "source": [
    "from sklearn.tree import DecisionTreeClassifier\n",
    "from sklearn.model_selection import cross_val_score\n",
    "def respuesta5():\n",
    "    model = DecisionTreeClassifier(random_state=0)\n",
    "    model.fit(X_train2, y_train2)\n",
    "\n",
    "    # get features importance\n",
    "    feature_importance = list(zip(X_train2.columns, model.feature_importances_))\n",
    "    feature_importance.sort(key=lambda x:x[1])\n",
    "    feature_importance.reverse()\n",
    "    result = [x[0] for x in feature_importance[:5]]\n",
    "    return result\n",
    "respuesta5()"
   ]
  },
  {
   "cell_type": "markdown",
   "metadata": {
    "id": "vI74bus1XwPa"
   },
   "source": [
    "### Pregunta 6\n",
    "\n",
    "Para esta pregunta, usaremos la función `validation_curve` en `sklearn.model_selection` para determinar los puntajes de entrenamiento y prueba para un Clasificador de vectores de soporte (`SVC`) con valores de parámetros variables. Recuerda que la función validation_curve, además de tomar un objeto clasificador no ajustado inicializado, toma un conjunto de datos como entrada y realiza sus propias divisiones internas de entrenamiento-prueba para calcular los resultados.\n",
    "\n",
    "**Debido a que la creación de una curva de validación requiere ajustar varios modelos, por razones de rendimiento, esta pregunta usará solo un subconjunto del conjunto de datos de hongos original: use las variables X_subset e y_subset como entrada para la función de la curva de validación (en lugar de X_mush e y_mush) para reducir el tiempo de cálculo.**\n",
    "\n",
    "El objeto clasificador no ajustado inicializado que usaremos es un clasificador de máquinas de vectores de soporte con kernel de base radial. Entonces, su primer paso es crear un objeto `SVC` con parámetros predeterminados (es decir,` kernel = 'rbf', C = 1`) y `random_state = 0`. Recuerde que el ancho del kernel del kernel RBF se controla mediante el parámetro `gamma`.\n",
    "\n",
    "Con este clasificador, y el conjunto de datos en X_subset, y_subset, explore el efecto de `gamma` en la precisión del clasificador usando la función` validation_curve` para encontrar los puntajes de entrenamiento y prueba para 6 valores de `gamma` desde` 0.0001` a `10 `(es decir,` np.logspace (-4,1,6) `). Recuerde que puede especificar qué métrica de puntuación desea que use validation_curve estableciendo el parámetro \"score\". En este caso, queremos utilizar la \"precisión\" como métrica de puntuación.\n",
    "\n",
    "Para cada nivel de `gamma`,` validation_curve` se ajustará a 3 modelos en diferentes subconjuntos de los datos, lo que arrojará dos matrices de 6x3 (6 niveles de gamma x 3 ajustes por nivel) de las puntuaciones para los conjuntos de entrenamiento y prueba.\n",
    "\n",
    "Encuentre la puntuación media en los tres modelos para cada nivel de \"gamma\" para ambas matrices, creando dos matrices de longitud 6 y devuelva una tupla con las dos matrices.\n",
    "\n",
    "p.ej.\n",
    "\n",
    "si uno de su conjunto de puntuaciones es\n",
    "\n",
    "    array([[ 0.5,  0.4,  0.6],\n",
    "           [ 0.7,  0.8,  0.7],\n",
    "           [ 0.9,  0.8,  0.8],\n",
    "           [ 0.8,  0.7,  0.8],\n",
    "           [ 0.7,  0.6,  0.6],\n",
    "           [ 0.4,  0.6,  0.5]])\n",
    "       \n",
    "entonces debería convertirse en\n",
    "\n",
    "    array([ 0.5,  0.73333333,  0.83333333,  0.76666667,  0.63333333, 0.5])\n",
    "\n",
    "*Esta función debería devolver una tupla de matrices numpy `(scores_entrenamiento, scores_prueba)` donde cada matriz en la tupla tiene forma `(6,)`.*"
   ]
  },
  {
   "cell_type": "code",
   "execution_count": 19,
   "metadata": {
    "id": "0ZCJj_cnXwPb"
   },
   "outputs": [
    {
     "data": {
      "image/png": "[encoded data removed]",
      "text/plain": [
       "<Figure size 504x360 with 1 Axes>"
      ]
     },
     "metadata": {
      "needs_background": "light"
     },
     "output_type": "display_data"
    },
    {
     "data": {
      "text/plain": [
       "(array([0.83370474, 0.93943926, 0.99101417, 1.        , 1.        ,\n",
       "        1.        ]),\n",
       " array([0.83160092, 0.93747958, 0.9901502 , 1.        , 0.99852459,\n",
       "        0.52240229]))"
      ]
     },
     "execution_count": 19,
     "metadata": {},
     "output_type": "execute_result"
    }
   ],
   "source": [
    "from sklearn.svm import SVC\n",
    "from sklearn.model_selection import validation_curve\n",
    "import matplotlib.pyplot as plt\n",
    "def respuesta6():\n",
    "    model = SVC(kernel='rbf', C = 1.0, random_state=0)\n",
    "    train_scores, test_scores = validation_curve(model, X_subset, y_subset, param_name=\"gamma\", param_range=np.logspace(-4, 1, 6), scoring=\"accuracy\")\n",
    "    train_scores_mean = np.mean(train_scores, axis=1)\n",
    "    test_scores_mean = np.mean(test_scores, axis=1)\n",
    "    train_scores_std = np.std(train_scores, axis=1)\n",
    "    test_scores_std = np.std(test_scores, axis=1)\n",
    "    \n",
    "    plt.figure(figsize=(7,5))\n",
    "    plt.title(\"Validation Curve with SVM\")\n",
    "    plt.xlabel(r\"$\\gamma$\")\n",
    "    plt.ylabel(\"Score\")\n",
    "    plt.ylim(0.0, 1.1)\n",
    "    lw = 2\n",
    "    param_range = np.logspace(-4, 1, 6)\n",
    "    plt.semilogx(param_range, train_scores_mean, label=\"Training score\",\n",
    "             color=\"darkorange\", lw=lw)\n",
    "    plt.fill_between(param_range, train_scores_mean - train_scores_std,\n",
    "                     train_scores_mean + train_scores_std, alpha=0.2,\n",
    "                     color=\"darkorange\", lw=lw)\n",
    "    plt.semilogx(param_range, test_scores_mean, label=\"Cross-validation score\",\n",
    "                 color=\"navy\", lw=lw)\n",
    "    plt.fill_between(param_range, test_scores_mean - test_scores_std,\n",
    "                     test_scores_mean + test_scores_std, alpha=0.2,\n",
    "                     color=\"navy\", lw=lw)\n",
    "    plt.legend(loc=\"best\")\n",
    "    plt.show()\n",
    "    \n",
    "    return train_scores_mean, test_scores_mean\n",
    "respuesta6()"
   ]
  },
  {
   "cell_type": "markdown",
   "metadata": {
    "id": "KdX6BH8bXwPb"
   },
   "source": [
    "### Pregunta 7\n",
    "\n",
    "Con base en los puntajes de la pregunta 6, ¿qué valor de gamma corresponde a un modelo que no es adecuado (y tiene la peor precisión del conjunto de entrenamiento y prueba)? ¿Qué valor de gamma corresponde a un modelo que está sobreajustado (y tiene la peor precisión del conjunto de prueba)? ¿Qué elección de gamma sería la mejor opción para un modelo con un buen rendimiento de generalización en este conjunto de datos (alta precisión tanto en el entrenamiento como en el conjunto de prueba)? Nota: puede haber varias soluciones correctas para esta pregunta.\n",
    "\n",
    "(Sugerencia: intenta graficar las puntuaciones de la pregunta 6 para visualizar la relación entre gamma y precisión).\n",
    "\n",
    "*Esta función debería devolver una tupla con los valores de grado en este orden: `(Subajuste, Sobreajuste, Buena_Generalización)`*"
   ]
  },
  {
   "cell_type": "code",
   "execution_count": 20,
   "metadata": {
    "id": "56rvQUv5XwPb"
   },
   "outputs": [
    {
     "data": {
      "image/png": "[encoded data removed]",
      "text/plain": [
       "<Figure size 504x360 with 1 Axes>"
      ]
     },
     "metadata": {
      "needs_background": "light"
     },
     "output_type": "display_data"
    },
    {
     "data": {
      "text/plain": [
       "(0.0001, 10.0, 0.1)"
      ]
     },
     "execution_count": 20,
     "metadata": {},
     "output_type": "execute_result"
    }
   ],
   "source": [
    "def respuesta7():\n",
    "    #The figure shows training scores and validation scores of an SVM \n",
    "    #for different values of the kernel parameter gamma. \n",
    "    \n",
    "    #Underfitting:For very low values of gamma: the training score and \n",
    "    #the validation score are low\n",
    "\n",
    "    #Overfitting: For high values of gamma: the training score is good\n",
    "    #but the validation score is poor.\n",
    "    \n",
    "    #Well performance: Medium values of gamma: high values for both \n",
    "    #scores\n",
    "     \n",
    "    train_score, test_score = respuesta6()\n",
    "    \n",
    "    underfitting = 0\n",
    "    overfitting = 0\n",
    "    good_generalization = 0\n",
    "    \n",
    "    min_train_score = np.min(train_score)\n",
    "    max_train_score = np.max(train_score)\n",
    "    \n",
    "    min_test_score = np.min(test_score)\n",
    "    max_test_score = np.max(test_score)\n",
    "    \n",
    "    train_score_sorted = np.sort(train_score)\n",
    "    test_score_sorted = np.sort(test_score)\n",
    "    \n",
    "    for gamma, score in zip(np.logspace(-4, 1, 6), zip(train_score, test_score)):\n",
    "        if (score[0] <= train_score_sorted[1]) and np.all(score[1] <= test_score_sorted[1]):\n",
    "            underfitting = gamma\n",
    "            \n",
    "        if (score[0] > train_score_sorted[1]) and np.all(score[1] <= test_score_sorted[1]):\n",
    "            overfitting = gamma\n",
    "        \n",
    "        if (score[0] == max_train_score) and np.all(score[1] == max_test_score):\n",
    "            good_generalization = gamma\n",
    "        \n",
    "    return underfitting, overfitting, good_generalization\n",
    "respuesta7()"
   ]
  },
  {
   "cell_type": "code",
   "execution_count": null,
   "metadata": {
    "id": "ZDY-qFreXwPb"
   },
   "outputs": [],
   "source": []
  }
 ],
 "metadata": {
  "colab": {
   "collapsed_sections": [],
   "name": "TareaAprendizajeSupervisado.ipynb",
   "provenance": []
  },
  "coursera": {
   "course_slug": "python-machine-learning",
   "graded_item_id": "eWYHL",
   "launcher_item_id": "BAqef",
   "part_id": "fXXRp"
  },
  "kernelspec": {
   "display_name": "Python 3",
   "language": "python",
   "name": "python3"
  },
  "language_info": {
   "codemirror_mode": {
    "name": "ipython",
    "version": 3
   },
   "file_extension": ".py",
   "mimetype": "text/x-python",
   "name": "python",
   "nbconvert_exporter": "python",
   "pygments_lexer": "ipython3",
   "version": "3.8.3"
  }
 },
 "nbformat": 4,
 "nbformat_minor": 1
}
